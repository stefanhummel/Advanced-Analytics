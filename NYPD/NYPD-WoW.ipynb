{
 "cells": [
  {
   "cell_type": "markdown",
   "metadata": {
    "collapsed": true
   },
   "source": [
    "# Notebook to demonstrate interaction between Spark/Python and dashDB\n",
    "\n",
    "## Credentials for dashDB\n",
    "\n",
    "Paste the credentials for dashDB from the Data Sources menu on the right in to the cell below."
   ]
  },
  {
   "cell_type": "code",
   "execution_count": null,
   "metadata": {
    "collapsed": true
   },
   "outputs": [],
   "source": []
  },
  {
   "cell_type": "markdown",
   "metadata": {},
   "source": [
    "## First query to dashDB\n",
    "\n",
    "### Get the table schema"
   ]
  },
  {
   "cell_type": "code",
   "execution_count": null,
   "metadata": {
    "collapsed": false
   },
   "outputs": [],
   "source": [
    "from pyspark.sql import SQLContext\n",
    "sqlContext = SQLContext(sc)\n",
    "\n",
    "props = {}\n",
    "props['user'] = credentials_1['username']\n",
    "props['password'] = credentials_1['password']\n",
    "\n",
    "# fill in table name\n",
    "table = credentials_1['username'] + \".\" + \"NYPD_COLL\"\n",
    "\n",
    "data_df = sqlContext.read.jdbc(credentials_1['jdbcurl'],table,properties=props)\n",
    "data_df.printSchema()"
   ]
  },
  {
   "cell_type": "markdown",
   "metadata": {},
   "source": [
    "### Query the table and return the 5 rows "
   ]
  },
  {
   "cell_type": "code",
   "execution_count": null,
   "metadata": {
    "collapsed": false
   },
   "outputs": [],
   "source": [
    "data_df.take(5)"
   ]
  },
  {
   "cell_type": "markdown",
   "metadata": {
    "collapsed": false
   },
   "source": [
    "## Visualize the data\n",
    "\n",
    "### Load libraries for visualization"
   ]
  },
  {
   "cell_type": "code",
   "execution_count": null,
   "metadata": {
    "collapsed": true
   },
   "outputs": [],
   "source": [
    "%matplotlib inline\n",
    "\n",
    "import matplotlib.pyplot as plt\n",
    "import pandas as pd\n",
    "import numpy as np"
   ]
  },
  {
   "cell_type": "markdown",
   "metadata": {},
   "source": [
    "### Convert the data to pandas structure for viusalization"
   ]
  },
  {
   "cell_type": "code",
   "execution_count": null,
   "metadata": {
    "collapsed": false
   },
   "outputs": [],
   "source": [
    "collisions_pd = data_df[data_df['LATITUDE'] != 0][['LATITUDE', 'LONGITUDE', 'DATE', 'TIME',\n",
    "                                                               'BOROUGH', 'ON_STREET_NAME', 'CROSS_STREET_NAME',\n",
    "                                                               'PERSONS_INJURED', 'PERSONS_KILLED',\n",
    "                                                               'CONTRIBUTING_FACTOR_1']].toPandas()\n",
    "\n",
    "collisions_pd.columns = ['Latitude', 'Longitude', 'Date', 'Time', 'Borough', 'On Street',\n",
    "                         'Cross Street', 'Persons Injured', 'Persons Killed', 'Contributing Factor']"
   ]
  },
  {
   "cell_type": "markdown",
   "metadata": {},
   "source": [
    "### Visualize data"
   ]
  },
  {
   "cell_type": "code",
   "execution_count": null,
   "metadata": {
    "collapsed": false
   },
   "outputs": [],
   "source": [
    "#adjust settings\n",
    "plt.figure(figsize=(15,10))\n",
    "\n",
    "#create scatterplots\n",
    "plt.scatter(collisions_pd.Longitude, collisions_pd.Latitude, alpha=0.05, s=4, color='darkseagreen')\n",
    "\n",
    "#adjust more settings\n",
    "plt.title('Motor Vehicle Collisions in New York City', size=25)\n",
    "plt.xlim((-74.26,-73.7))\n",
    "plt.ylim((40.5,40.92))\n",
    "plt.xlabel('Longitude',size=20)\n",
    "plt.ylabel('Latitude',size=20)\n",
    "\n",
    "plt.show()"
   ]
  },
  {
   "cell_type": "markdown",
   "metadata": {
    "collapsed": false
   },
   "source": [
    "## Query the k-means cluster data\n",
    "\n",
    "### Join the base table with the cluster information (in dashDB)"
   ]
  },
  {
   "cell_type": "code",
   "execution_count": null,
   "metadata": {
    "collapsed": false
   },
   "outputs": [],
   "source": [
    "# fill in table name\n",
    "table = credentials_1['username'] + \".\" + \"NYPD_COLL_KM\"\n",
    "\n",
    "km_df = sqlContext.read.jdbc(credentials_1['jdbcurl'],table,properties=props)\n",
    "km_df.printSchema()\n",
    "\n",
    "km_pd = km_df[km_df['LATITUDE'] != 0][['LATITUDE', 'LONGITUDE', 'DATE', 'TIME',\n",
    "                                                               'BOROUGH', 'ON_STREET_NAME', 'CROSS_STREET_NAME',\n",
    "                                                               'PERSONS_INJURED', 'PERSONS_KILLED',\n",
    "                                                               'CONTRIBUTING_FACTOR_1', 'CLUSTER_ID']].toPandas()\n",
    "\n",
    "km_pd.columns = ['Latitude', 'Longitude', 'Date', 'Time', 'Borough', 'On Street',\n",
    "                         'Cross Street', 'Persons Injured', 'Persons Killed', 'Contributing Factor', 'Cluster']\n"
   ]
  },
  {
   "cell_type": "markdown",
   "metadata": {},
   "source": [
    "### Visualize data from a single cluster"
   ]
  },
  {
   "cell_type": "code",
   "execution_count": null,
   "metadata": {
    "collapsed": false
   },
   "outputs": [],
   "source": [
    "clusterid = 2\n",
    "\n",
    "cl_pd = km_pd[km_pd['Cluster']==clusterid]\n",
    "\n",
    "plt.figure(figsize=(15,10), dpi=0.1)\n",
    "\n",
    "plt.scatter(cl_pd.Longitude, cl_pd.Latitude, color='red', s=1, marker ='.')\n",
    "\n",
    "#adjust more settings\n",
    "plt.title('Motor Vehicle Collisions in New York City in cluster #'+str(clusterid), size=20)\n",
    "plt.xlim((-74.26,-73.7))\n",
    "plt.ylim((40.5,40.92))\n",
    "plt.xlabel('Longitude',size=20)\n",
    "plt.ylabel('Latitude',size=20)\n",
    "plt.show()"
   ]
  },
  {
   "cell_type": "markdown",
   "metadata": {},
   "source": [
    "## Aggregate data\n",
    "\n",
    "### Aggregate in Spark"
   ]
  },
  {
   "cell_type": "code",
   "execution_count": null,
   "metadata": {
    "collapsed": false
   },
   "outputs": [],
   "source": [
    "cluster = km_df.groupBy('CLUSTER_ID').count().sort('count').toPandas()\n",
    "colors = ['g','0.75','y','k','b','r']\n",
    "plt.barh(range(4),cluster.sort_values('count', ascending=True)['count'], color=colors)\n",
    "plt.xlabel('Collisions')\n",
    "plt.ylabel('Cluster')\n",
    "plt.title('Total Number of Collisions by Cluster', size=15)\n",
    "plt.yticks(range(4), cluster['CLUSTER_ID'])\n",
    "plt.show()"
   ]
  },
  {
   "cell_type": "markdown",
   "metadata": {},
   "source": [
    "### Install ibmdbpy library"
   ]
  },
  {
   "cell_type": "code",
   "execution_count": null,
   "metadata": {
    "collapsed": false
   },
   "outputs": [],
   "source": [
    "!pip install ibmdbpy --user --upgrade\n",
    "!wget -O $HOME/.local/lib/python2.7/site-packages/ibmdbpy/db2jcc4.jar https://ibm.box.com/shared/static/o9qfkdaoio8hj4c1fs37sz8zhjp77rl2.x"
   ]
  },
  {
   "cell_type": "markdown",
   "metadata": {},
   "source": [
    "### Connect to dashDB using ibmdbpy"
   ]
  },
  {
   "cell_type": "code",
   "execution_count": null,
   "metadata": {
    "collapsed": false
   },
   "outputs": [],
   "source": [
    "from ibmdbpy import IdaDataBase, IdaDataFrame\n",
    "\n",
    "username = credentials_1['username']\n",
    "password = credentials_1['password']\n",
    "\n",
    "jdbc = credentials_1['jdbcurl'] + \":user=\" + username + \";password=\" + password\n",
    "print(jdbc)\n",
    "\n",
    "idadb = IdaDataBase(jdbc)"
   ]
  },
  {
   "cell_type": "markdown",
   "metadata": {},
   "source": [
    "### Aggregate data directly in dashDB and visualize results"
   ]
  },
  {
   "cell_type": "code",
   "execution_count": null,
   "metadata": {
    "collapsed": false
   },
   "outputs": [],
   "source": [
    "cluster = idadb.ida_query(\"SELECT cluster_id, count(*) as count FROM NYPD_COLL_KM group by cluster_id\")\n",
    "\n",
    "colors = ['g','0.75','y','k','b','r']\n",
    "plt.barh(range(4),cluster.sort_values('COUNT', ascending=True)['COUNT'], color=colors)\n",
    "plt.xlabel('Collisions')\n",
    "plt.ylabel('Cluster')\n",
    "plt.title('Total Number of Collisions by Cluster', size=15)\n",
    "plt.yticks(range(4), cluster['CLUSTER_ID'])\n",
    "plt.show()"
   ]
  },
  {
   "cell_type": "markdown",
   "metadata": {},
   "source": [
    "## Geospatial analytics\n",
    "\n",
    "### Distance\n",
    "\n",
    "Select collisions that are in a range of 100 meters around Times Square (40.758909, -73.985116) and visualize result."
   ]
  },
  {
   "cell_type": "code",
   "execution_count": null,
   "metadata": {
    "collapsed": false
   },
   "outputs": [],
   "source": [
    "query = \"select latitude, longitude from nypd_coll where location is not null and \" \\\n",
    "        \"db2gse.ST_Distance(db2gse.ST_Point(latitude, longitude,1), db2gse.ST_Point(40.758909, -73.985116, 1), 'METRE') < 100\"\n",
    "timessquare = idadb.ida_query(query)\n",
    "\n",
    "plt.figure(figsize=(15,10), dpi=0.1)\n",
    "\n",
    "plt.scatter(collisions_pd.Longitude, collisions_pd.Latitude, alpha=0.05, s=4, color='darkseagreen')\n",
    "plt.scatter(timessquare.LONGITUDE, timessquare.LATITUDE, color='red', s=1, marker ='.')\n",
    "\n",
    "#adjust more settings\n",
    "plt.title('Motor Vehicle Collisions close to Times Square in New York City ')\n",
    "plt.xlim((-74.26,-73.7))\n",
    "plt.ylim((40.5,40.92))\n",
    "plt.xlabel('Longitude',size=20)\n",
    "plt.ylabel('Latitude',size=20)\n",
    "plt.show()"
   ]
  },
  {
   "cell_type": "markdown",
   "metadata": {
    "collapsed": false
   },
   "source": [
    "### Polygon\n",
    "\n",
    "Select Collisions that are around Central Park and visualize result."
   ]
  },
  {
   "cell_type": "code",
   "execution_count": null,
   "metadata": {
    "collapsed": false
   },
   "outputs": [],
   "source": [
    "query = \"select latitude, longitude from nypd_coll where location is not null and \" \\\n",
    "        \"db2gse.ST_Intersects(db2gse.ST_Point(latitude, longitude,1), \" \\\n",
    "        \"db2gse.ST_Polygon('polygon ((40.767804 -73.982646, 40.801022 -73.958432, 40.797178 -73.948613, 40.764000 -73.972981, 40.767804 -73.982646))',1)) = 1\"\n",
    "centralpark = idadb.ida_query(query)\n",
    "\n",
    "plt.figure(figsize=(15,10), dpi=0.1)\n",
    "\n",
    "plt.scatter(collisions_pd.Longitude, collisions_pd.Latitude, alpha=0.05, s=4, color='darkseagreen')\n",
    "plt.scatter(centralpark.LONGITUDE, centralpark.LATITUDE, color='red', s=1, marker ='.')\n",
    "\n",
    "#adjust more settings\n",
    "plt.title('Motor Vehicle Collisions close to Central Park in New York City ')\n",
    "plt.xlim((-74.26,-73.7))\n",
    "plt.ylim((40.5,40.92))\n",
    "plt.xlabel('Longitude',size=20)\n",
    "plt.ylabel('Latitude',size=20)\n",
    "plt.show()"
   ]
  },
  {
   "cell_type": "code",
   "execution_count": null,
   "metadata": {
    "collapsed": false
   },
   "outputs": [],
   "source": []
  },
  {
   "cell_type": "code",
   "execution_count": null,
   "metadata": {
    "collapsed": true
   },
   "outputs": [],
   "source": []
  }
 ],
 "metadata": {
  "kernelspec": {
   "display_name": "Python 2",
   "language": "python",
   "name": "python2"
  },
  "language_info": {
   "codemirror_mode": {
    "name": "ipython",
    "version": 2
   },
   "file_extension": ".py",
   "mimetype": "text/x-python",
   "name": "python",
   "nbconvert_exporter": "python",
   "pygments_lexer": "ipython2",
   "version": "2.7.11"
  }
 },
 "nbformat": 4,
 "nbformat_minor": 0
}