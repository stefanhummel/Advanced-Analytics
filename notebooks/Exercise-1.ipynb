{
 "cells": [
  {
   "cell_type": "markdown",
   "metadata": {
    "slideshow": {
     "slide_type": "slide"
    }
   },
   "source": [
    "## Lab 1 : Create tables\n",
    "\n",
    "In this exercise, you will learn several methods how to create tables:\n",
    "- using the web UI\n",
    "- via jupyter notebook\n",
    "- ...\n",
    "\n",
    "### Create tables with the web UI\n",
    "Open a browser and connect to the Db2 warehouse UI (https://localhost:8443). Login as user bluadmin. You should be greeted with the following screen:\n",
    "\n",
    "<img src=\"media/Db2wh_001.png\" style=\"width: 700px\";/>\n",
    "\n",
    "---\n",
    "\n",
    "<div style=\"float:left;margin:0 10px 10px 0;width:40px\" markdown=\"1\">\n",
    "    ![book](media/Db2wh_005.png)\n",
    "</div>\n",
    "Navigate in the menu to *ADMINISTER* - *TABLE*.<br><br>\n",
    "\n",
    "<div style=\"float:left;margin:0 10px 10px 0;width:70px\" markdown=\"1\">\n",
    "    ![book](media/Db2wh_004.png)\n",
    "</div>\n",
    "Create a new table using the SQL editor. <br><br>\n",
    "\n",
    "<div style=\"float:left;margin:0 10px 10px 0;width:40px\" markdown=\"1\">\n",
    "    ![book](media/Db2wh_003.png)\n",
    "</div>\n",
    "Become familiar with the settings first. Open the options in the top right of the editor. Pay special attention to the settings of the default schema and the statement terminator. Make sure, that the schema is 'SSB' and that the terminator is ';'.\n",
    "\n",
    "Now modify the example statement below. Edit the { } variables. Choose an option in [ ]. Run the script and have a look to the output in the result pane and in the log pane.<br>\n",
    "Try the other functions in the table explorer as well to create a table. \n",
    "\n",
    "---\n",
    "\n",
    "<div style=\"float:left;margin:0 10px 10px 0;width:40px\" markdown=\"1\">\n",
    "    ![book](media/Db2wh_005.png)\n",
    "</div>\n",
    "Navigate in the menu to *LOAD* - *Load from File*.<br>\n",
    "Select the file `/home/user/Advanced-Analytics/SSB/date.tbl` \n",
    "You see that `date.tbl` is selected. Consider the file `date.tbl` does not contain the column names. Change the separator character for columns to the pipe symbol (“|”). Db2 will now generate the DDL based on the detected data and the changes you can do.\n",
    "Preview the data. In the next step, select to create a new table. Db2 will now generate the DDL based on the detected data and the changes you can do. You could run this DDL and load the data in the Finalize step. But since we are expecting certain column names in our queries which we will run later, and since we have already a file with the DDL for the table “date” prepared in the file system, we will now learn the second method for creating tables.\n",
    "\n",
    "---\n",
    "\n",
    "Switch to the function “Run SQL” and open the DDL script in `/home/user/Advanced-Analytics/SSB/ssb-dbgen-master/ssb.ddl`. Run all DDLs.<br>\n",
    "<img src=\"media/Db2wh_006.png\" style=\"width: 700px\";/>\n",
    "\n",
    "Unfortunately, you will get an error. Why?\n",
    "\n",
    "We have D_DATEKEY defined as primary key. But Db2 requires – like Db2 – a primary key also as defined as NOT NULL, which we haven't done yet. Let's insert the NOT NULL constraint and try again. Therefore put the cursor into the changed DDL and select the function \"Run - Run selected\".<br>\n",
    "\n",
    "This time everything works and the table dates gets created. Check the job result and log.<br>\n",
    "\n",
    "<img src=\"media/Db2wh_007.png\" style=\"width: 300px\";/>\n",
    "<br><br>\n",
    "\n",
    "<div style=\"float:left;margin:0 10px 10px 0;width:30px\" markdown=\"1\">\n",
    "    ![book](media/Db2wh_008.png)\n",
    "</div>\n",
    "Make sure that all tables in ssb.ddl are created. When you are done, you can check in the “Tables” screen whether everything is OK. If necessary, update the view.\n",
    "\n",
    "---\n",
    "\n",
    "Another method to create tables is using a Jupyter Notebook.\n",
    "<...>\n",
    "Start by importing the ibm_db python library to perform database operations.\n",
    "\n",
    "\n",
    "---\n",
    "\n"
   ]
  },
  {
   "cell_type": "code",
   "execution_count": null,
   "metadata": {},
   "outputs": [],
   "source": [
    "import ibm_db\n",
    "import ibm_db_sa\n",
    "import sqlalchemy"
   ]
  },
  {
   "cell_type": "code",
   "execution_count": null,
   "metadata": {},
   "outputs": [],
   "source": [
    "# loads the SQL magic extensions\n",
    "%load_ext sql"
   ]
  },
  {
   "cell_type": "code",
   "execution_count": null,
   "metadata": {},
   "outputs": [],
   "source": [
    "user='bluadmin'\n",
    "password='bluadmin'\n",
    "host='localhost'\n",
    "%sql db2+ibm_db://$user:$password@$host:50000/BLUDB      "
   ]
  },
  {
   "cell_type": "code",
   "execution_count": null,
   "metadata": {},
   "outputs": [],
   "source": [
    "%%sql\n",
    "select * from ssb.dates"
   ]
  },
  {
   "cell_type": "code",
   "execution_count": null,
   "metadata": {},
   "outputs": [],
   "source": [
    "%sql select tabschema, tabname from syscat.tables where owner = 'BLUADMIN'"
   ]
  },
  {
   "cell_type": "markdown",
   "metadata": {},
   "source": [
    "Now you are ready to load data which will be done in the next lab. When you have configured remote connections to Db2, which we will learn in a later lab, you can use those also for creating tables.\n"
   ]
  }
 ],
 "metadata": {
  "celltoolbar": "Raw Cell Format",
  "kernelspec": {
   "display_name": "Python 2",
   "language": "python",
   "name": "python2"
  },
  "language_info": {
   "codemirror_mode": {
    "name": "ipython",
    "version": 2
   },
   "file_extension": ".py",
   "mimetype": "text/x-python",
   "name": "python",
   "nbconvert_exporter": "python",
   "pygments_lexer": "ipython2",
   "version": "2.7.12"
  }
 },
 "nbformat": 4,
 "nbformat_minor": 2
}
